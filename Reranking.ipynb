{
  "nbformat": 4,
  "nbformat_minor": 0,
  "metadata": {
    "colab": {
      "provenance": [],
      "authorship_tag": "ABX9TyPbuoFD9rWdoUOihR3rUb2m",
      "include_colab_link": true
    },
    "kernelspec": {
      "name": "python3",
      "display_name": "Python 3"
    },
    "language_info": {
      "name": "python"
    }
  },
  "cells": [
    {
      "cell_type": "markdown",
      "metadata": {
        "id": "view-in-github",
        "colab_type": "text"
      },
      "source": [
        "<a href=\"https://colab.research.google.com/github/algodigger/playground/blob/main/Reranking.ipynb\" target=\"_parent\"><img src=\"https://colab.research.google.com/assets/colab-badge.svg\" alt=\"Open In Colab\"/></a>"
      ]
    },
    {
      "cell_type": "markdown",
      "source": [],
      "metadata": {
        "id": "20vQ_fvttFZp"
      }
    },
    {
      "cell_type": "markdown",
      "source": [
        "### Reranking\n",
        "\n",
        "#### Let's check how reranking model is working in the follwoing usecase\n",
        "0. Set up everything and initialize [FlagEmddings](https://github.com/FlagOpen/FlagEmbedding/tree/master/FlagEmbedding/reranker) model for reranking\n",
        "1. Upload pdf document  (Pdf for simplicity)\n",
        "2. Split to chunks and convert to openAi embeddings\n",
        "3. Store embeddings in ChromaDB\n",
        "4. Query the document"
      ],
      "metadata": {
        "id": "GZ5m9CzeuG4e"
      }
    },
    {
      "cell_type": "code",
      "source": [
        "%pip install langchain\n",
        "%pip install chromadb\n",
        "%pip install transformers"
      ],
      "metadata": {
        "id": "fLsyf0ertCTh"
      },
      "execution_count": null,
      "outputs": []
    },
    {
      "cell_type": "markdown",
      "source": [
        "####Sanity check:\n",
        " Test the ranker algo on simple list of Q&As using the example from the repo"
      ],
      "metadata": {
        "id": "jwKCfiirvUPY"
      }
    },
    {
      "cell_type": "code",
      "source": [
        "import torch\n",
        "from torch.nn.functional import softmax\n",
        "from transformers import AutoModelForSequenceClassification, AutoTokenizer\n",
        "\n",
        "tokenizer = AutoTokenizer.from_pretrained('BAAI/bge-reranker-large')\n",
        "model = AutoModelForSequenceClassification.from_pretrained('BAAI/bge-reranker-large')\n",
        "model.eval()\n",
        "\n",
        "pairs = [['what is panda?', 'hi'], ['what is panda?', 'The giant panda (Ailuropoda melanoleuca), sometimes called a panda bear or simply panda, is a bear species endemic to China.']]\n",
        "with torch.no_grad():\n",
        "    inputs = tokenizer(pairs, padding=True, truncation=True, return_tensors='pt', max_length=512)\n",
        "    logits = model(**inputs, return_dict=True).logits.view(-1, )\n",
        "    scores = model(**inputs, return_dict=True).logits.view(-1, ).float()\n",
        "    probabilities = softmax(logits, dim=0).tolist()\n",
        "    print(f\"Scores: {logits.float()}\")\n",
        "    print(f\"Probabilities: {probabilities}\")\n"
      ],
      "metadata": {
        "colab": {
          "base_uri": "https://localhost:8080/"
        },
        "id": "NTXoG2pquaUQ",
        "outputId": "a98916cd-b7d6-435e-87e2-1cbfb09a440e"
      },
      "execution_count": 11,
      "outputs": [
        {
          "output_type": "stream",
          "name": "stdout",
          "text": [
            "Scores: tensor([-5.6085,  5.7623])\n",
            "Probabilities: [1.1526946764206514e-05, 0.9999884366989136]\n"
          ]
        }
      ]
    },
    {
      "cell_type": "markdown",
      "source": [
        "**Observations**: probably for a simple ranking we should consider to use smaller reranker to make it more realistic for a production env"
      ],
      "metadata": {
        "id": "pd3IYIPKy5qp"
      }
    },
    {
      "cell_type": "code",
      "source": [],
      "metadata": {
        "id": "EitkMejazEpm"
      },
      "execution_count": null,
      "outputs": []
    }
  ]
}