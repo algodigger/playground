{
 "cells": [
  {
   "cell_type": "code",
   "execution_count": null,
   "metadata": {},
   "outputs": [],
   "source": [
    "%pip install pandas scikit-learn mlflow"
   ]
  },
  {
   "cell_type": "code",
   "execution_count": 82,
   "metadata": {},
   "outputs": [],
   "source": [
    "import mlflow\n",
    "from mlflow.models import infer_signature\n",
    "\n",
    "import pandas as pd\n",
    "from sklearn import datasets\n",
    "from sklearn.model_selection import train_test_split\n",
    "from sklearn.linear_model import LogisticRegression\n",
    "from sklearn.metrics import accuracy_score, precision_score, recall_score, f1_score\n",
    "import matplotlib.pyplot as plt"
   ]
  },
  {
   "cell_type": "markdown",
   "metadata": {},
   "source": [
    "##### Set up MLFlow server connection/experiment/run"
   ]
  },
  {
   "cell_type": "code",
   "execution_count": 83,
   "metadata": {},
   "outputs": [
    {
     "name": "stdout",
     "output_type": "stream",
     "text": [
      "Starting logging with mlflow experiment Mlflow test | Run5 | [http://127.0.0.1:8080]\n"
     ]
    }
   ],
   "source": [
    "MLFLOW_TRACKING_URL = \"http://127.0.0.1:8080\"\n",
    "EXPERIMENT_NAME = \"Mlflow test\"\n",
    "MODEL_ARTIFACT_NAME = \"my_iris_model\"\n",
    "\n",
    "mlflow.set_tracking_uri(uri=MLFLOW_TRACKING_URL)\n",
    "\n",
    "def check_server_status(tracking_uri):\n",
    "    mlflow.set_tracking_uri(tracking_uri)\n",
    "    try:\n",
    "        mlflow.get_experiment_by_name(\"default\")\n",
    "        return True\n",
    "    except Exception as e:\n",
    "        print(f\"Failed to list experiments: {e}\")\n",
    "        print(f\"Please check if the MLFLOW server is up (start command is: mlflow server --host 127.0.0.1 --port 8080)\")\n",
    "        return False\n",
    "\n",
    "if check_server_status(MLFLOW_TRACKING_URL):\n",
    "    experiment = mlflow.get_experiment_by_name(EXPERIMENT_NAME)\n",
    "    runs = mlflow.search_runs(experiment_ids=experiment.experiment_id)\n",
    "    RUN_NAME = f\"Run{len(runs)}\" if experiment and not runs.empty else \"Run0\"\n",
    "\n",
    "    print(f\"Starting logging with mlflow experiment {EXPERIMENT_NAME} | {RUN_NAME} | [{MLFLOW_TRACKING_URL}]\")"
   ]
  },
  {
   "cell_type": "markdown",
   "metadata": {},
   "source": [
    "##### Usual sklearn approach "
   ]
  },
  {
   "cell_type": "code",
   "execution_count": 84,
   "metadata": {},
   "outputs": [],
   "source": [
    "# Load the Iris dataset\n",
    "X, y = datasets.load_iris(return_X_y=True)\n",
    "\n",
    "# Split the data into training and test sets\n",
    "X_train, X_test, y_train, y_test = train_test_split(\n",
    "    X, y, test_size=0.2, random_state=42\n",
    ")\n",
    "\n",
    "# Define the model hyperparameters\n",
    "params = {\n",
    "    \"solver\": \"lbfgs\",\n",
    "    \"max_iter\": 1000,\n",
    "    \"multi_class\": \"auto\",\n",
    "    \"random_state\": 8888,\n",
    "}\n",
    "\n",
    "# Train the model\n",
    "lr = LogisticRegression(**params)\n",
    "lr.fit(X_train, y_train)\n",
    "\n",
    "# Predict on the test set\n",
    "y_pred = lr.predict(X_test)\n",
    "\n",
    "# Calculate metrics\n",
    "accuracy = accuracy_score(y_test, y_pred)\n"
   ]
  },
  {
   "cell_type": "markdown",
   "metadata": {},
   "source": [
    "##### MLFlow wrapper"
   ]
  },
  {
   "cell_type": "code",
   "execution_count": null,
   "metadata": {},
   "outputs": [],
   "source": [
    "# Create a new MLflow Experiment\n",
    "mlflow.set_experiment(EXPERIMENT_NAME)\n",
    "\n",
    "# Start an MLflow run\n",
    "with mlflow.start_run(run_name=RUN_NAME):\n",
    "    # Log the hyperparameters\n",
    "    mlflow.log_params(params)\n",
    "\n",
    "    # Log the loss metric\n",
    "    mlflow.log_metric(\"accuracy\", accuracy)\n",
    "\n",
    "    # Set a tag that we can use to remind ourselves what this run was for\n",
    "    mlflow.set_tag(\"Training Info\", \"Basic LR model for iris data\")\n",
    "\n",
    "    # Infer the model signature\n",
    "    signature = infer_signature(X_train, lr.predict(X_train))\n",
    "\n",
    "    # Log the model\n",
    "    model_info = mlflow.sklearn.log_model(\n",
    "        sk_model=lr,\n",
    "        artifact_path=MODEL_ARTIFACT_NAME,\n",
    "        signature=signature,\n",
    "        input_example=X_train,\n",
    "        registered_model_name=\"tracking-quickstart\",\n",
    "    )\n",
    "    "
   ]
  },
  {
   "cell_type": "markdown",
   "metadata": {},
   "source": [
    "#### Query mlflow api for the latest run data"
   ]
  },
  {
   "cell_type": "code",
   "execution_count": 86,
   "metadata": {},
   "outputs": [],
   "source": [
    "def fetch_run(experiment_name, run_name):\n",
    "    # Get the experiment ID from the experiment name\n",
    "    experiment = mlflow.get_experiment_by_name(experiment_name)\n",
    "    if experiment:\n",
    "        experiment_id = experiment.experiment_id\n",
    "    else:\n",
    "        print(f\"No experiment found with name '{experiment_name}'\")\n",
    "        return\n",
    "\n",
    "    # Search for runs with the specified name in the specified experiment\n",
    "    runs = mlflow.search_runs(experiment_ids=experiment_id, filter_string=f\"tags.mlflow.runName = '{run_name}'\")\n",
    "\n",
    "    # Get the run ID from the search results\n",
    "    if not runs.empty:\n",
    "        run_id = runs.iloc[0]['run_id']\n",
    "    else:\n",
    "        print(f\"No run found with name '{run_name}' in experiment ID '{experiment_id}'\")\n",
    "        return\n",
    "\n",
    "    # Get the run using the run ID\n",
    "    return mlflow.get_run(run_id)"
   ]
  },
  {
   "cell_type": "markdown",
   "metadata": {},
   "source": [
    "##### Display metrics graph"
   ]
  },
  {
   "cell_type": "code",
   "execution_count": 87,
   "metadata": {},
   "outputs": [
    {
     "name": "stdout",
     "output_type": "stream",
     "text": [
      "accuracy: 1.0\n"
     ]
    },
    {
     "data": {
      "image/png": "[encoded data removed]",
      "text/plain": [
       "<Figure size 1000x600 with 1 Axes>"
      ]
     },
     "metadata": {},
     "output_type": "display_data"
    }
   ],
   "source": [
    "\n",
    "run = fetch_run(EXPERIMENT_NAME, RUN_NAME)\n",
    "\n",
    "if run.data:\n",
    "    # Display the metrics from the run\n",
    "    for key, value in run.data.metrics.items():\n",
    "        print(f\"{key}: {value}\")\n",
    "\n",
    "\n",
    "# Get the metrics from the run\n",
    "metrics = run.data.metrics\n",
    "# Plot the metrics\n",
    "plt.figure(figsize=(10, 6))\n",
    "plt.bar(metrics.keys(), metrics.values())\n",
    "plt.xlabel('Metric')\n",
    "plt.ylabel('Value')\n",
    "plt.title('Metrics for run: {}'.format(run.info.run_name))\n",
    "plt.xticks(rotation=45)\n",
    "plt.tight_layout()\n",
    "plt.show()"
   ]
  },
  {
   "cell_type": "markdown",
   "metadata": {},
   "source": [
    "##### Load model artifact and predict on given features"
   ]
  },
  {
   "cell_type": "code",
   "execution_count": 96,
   "metadata": {},
   "outputs": [
    {
     "name": "stdout",
     "output_type": "stream",
     "text": [
      "mlflow-artifacts:/652831916149125192/7cb42a35b6e64eb7a3e17383fbcb70ae/artifacts/my_iris_model\n"
     ]
    },
    {
     "name": "stderr",
     "output_type": "stream",
     "text": [
      "Downloading artifacts: 100%|██████████| 6/6 [00:00<00:00, 409.99it/s]  "
     ]
    },
    {
     "name": "stdout",
     "output_type": "stream",
     "text": [
      "[0 2]\n"
     ]
    },
    {
     "name": "stderr",
     "output_type": "stream",
     "text": [
      "\n"
     ]
    }
   ],
   "source": [
    "data = run.data\n",
    "model_uri = f\"{run.info.artifact_uri}/{MODEL_ARTIFACT_NAME}\"\n",
    "\n",
    "print(model_uri)\n",
    "\n",
    "# Load model as a PyFuncModel.\n",
    "loaded_model = mlflow.pyfunc.load_model(model_uri)\n",
    "\n",
    "\n",
    "features =  [[4.4, 2.9, 1.4, 0.2], [1,2,3,4]]\n",
    "\n",
    "predictions = loaded_model.predict(pd.DataFrame(features))\n",
    "\n",
    "print(predictions)"
   ]
  }
 ],
 "metadata": {
  "kernelspec": {
   "display_name": "Python 3",
   "language": "python",
   "name": "python3"
  },
  "language_info": {
   "codemirror_mode": {
    "name": "ipython",
    "version": 3
   },
   "file_extension": ".py",
   "mimetype": "text/x-python",
   "name": "python",
   "nbconvert_exporter": "python",
   "pygments_lexer": "ipython3",
   "version": "3.10.13"
  }
 },
 "nbformat": 4,
 "nbformat_minor": 2
}
